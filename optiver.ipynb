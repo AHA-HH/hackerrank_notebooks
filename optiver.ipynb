{
 "cells": [
  {
   "cell_type": "code",
   "execution_count": 12,
   "metadata": {},
   "outputs": [
    {
     "name": "stdout",
     "output_type": "stream",
     "text": [
      "3\n"
     ]
    }
   ],
   "source": [
    "def NumberOfSequences(n, k):\n",
    "    dp = [0] * (n + 1)\n",
    "    dp[0] = 1\n",
    "    \n",
    "    for i in range(1, n + 1):\n",
    "        for num in k:\n",
    "            if i >= num:\n",
    "                dp[i] += dp[i - num]\n",
    "    \n",
    "    return dp[n]\n",
    "\n",
    "# if __name__ == '__main__':\n",
    "#     n = 3\n",
    "#     k = [1, 2]\n",
    "#     print(NumberOfSequences(n, k))\n",
    "\n",
    "n = 3\n",
    "k = [1, 2]\n",
    "print(NumberOfSequences(n, k))"
   ]
  },
  {
   "cell_type": "code",
   "execution_count": 11,
   "metadata": {},
   "outputs": [
    {
     "name": "stdout",
     "output_type": "stream",
     "text": [
      "[0.06247412008281573, 0.06252587991718425]\n"
     ]
    }
   ],
   "source": [
    "def BacktestStatistics(timeseries):\n",
    "    # Calculate daily returns\n",
    "    returns = []\n",
    "    for i in range(1, len(timeseries)):\n",
    "        # Calculate return for stock A\n",
    "        ret_A = (timeseries[i][0] - timeseries[i - 1][0]) / timeseries[i - 1][0]\n",
    "        # Calculate return for stock B\n",
    "        ret_B = (timeseries[i][1] - timeseries[i - 1][1]) / timeseries[i - 1][1]\n",
    "        # Portfolio return: 75% allocation to A, 25% to B\n",
    "        portfolio_return = 0.75 * ret_A + 0.25 * ret_B\n",
    "        returns.append(portfolio_return)\n",
    "\n",
    "    # Compute average daily return\n",
    "    avg_return = sum(returns) / len(returns)\n",
    "\n",
    "    # Compute standard deviation\n",
    "    variance = sum((r - avg_return) ** 2 for r in returns) / len(returns)\n",
    "    std_dev = variance ** 0.5\n",
    "\n",
    "    # Return results as a list\n",
    "    return [avg_return, std_dev]\n",
    "\n",
    "# # Example usage\n",
    "# if __name__ == \"__main__\":\n",
    "#     timeseries = [\n",
    "#         [1000, 2000],  # Day 0 prices\n",
    "#         [1150, 2100],  # Day 1 prices\n",
    "#         [1170, 1990]   # Day 2 prices\n",
    "#     ]\n",
    "#     result = BacktestStatistics(timeseries)\n",
    "#     print(result)\n",
    "timeseries = [\n",
    "    [1000, 2000],  # Day 0 prices\n",
    "    [1150, 2100],  # Day 1 prices\n",
    "    [1170, 1990]   # Day 2 prices\n",
    "]\n",
    "result = BacktestStatistics(timeseries)\n",
    "print(result)"
   ]
  },
  {
   "cell_type": "code",
   "execution_count": null,
   "metadata": {},
   "outputs": [],
   "source": [
    "def optimal_execution_cost(n: int, a: float, b: float, k: int, p: float) -> float:\n",
    "    # Base cases\n",
    "    if n == 0:\n",
    "        return 0\n",
    "    if k == 0:\n",
    "        return n * (a + b) / 2  # Expected cost using market only\n",
    "    \n",
    "    # Expected cost using market for one unit\n",
    "    market_cost = (a + b) / 2\n",
    "    \n",
    "    # Compare using broker vs market for current unit\n",
    "    use_broker = p + optimal_execution_cost(n - 1, a, b, k - 1, p)\n",
    "    use_market = market_cost + optimal_execution_cost(n - 1, a, b, k, p)\n",
    "    \n",
    "    return min(use_broker, use_market)"
   ]
  }
 ],
 "metadata": {
  "kernelspec": {
   "display_name": "vscode",
   "language": "python",
   "name": "python3"
  },
  "language_info": {
   "codemirror_mode": {
    "name": "ipython",
    "version": 3
   },
   "file_extension": ".py",
   "mimetype": "text/x-python",
   "name": "python",
   "nbconvert_exporter": "python",
   "pygments_lexer": "ipython3",
   "version": "3.11.7"
  }
 },
 "nbformat": 4,
 "nbformat_minor": 2
}
